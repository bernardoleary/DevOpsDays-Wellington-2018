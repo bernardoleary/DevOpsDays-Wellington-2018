{
 "cells": [
  {
   "cell_type": "markdown",
   "metadata": {},
   "source": [
    "# To get started\n",
    "\n",
    "- git clone https://github.com/bernardoleary/DevOpsDays-Wellington-2018.git\n",
    "- cd DevOpsDays-Wellington-2018\n",
    "- jupyter-notebook.exe"
   ]
  },
  {
   "cell_type": "code",
   "execution_count": 1,
   "metadata": {},
   "outputs": [
    {
     "name": "stdout",
     "output_type": "stream",
     "text": [
      "3.6.5 (v3.6.5:f59c0932b4, Mar 28 2018, 16:07:46) [MSC v.1900 32 bit (Intel)]\n"
     ]
    }
   ],
   "source": [
    "import sys\n",
    "import numpy as np\n",
    "import pandas as pd\n",
    "import matplotlib.pyplot as plt\n",
    "from sklearn import datasets\n",
    "from sklearn.linear_model import LinearRegression\n",
    "from sklearn.tree import DecisionTreeClassifier\n",
    "from sklearn.model_selection import train_test_split\n",
    "\n",
    "# Print Python version - just to make sure notebook is working\n",
    "print (sys.version)"
   ]
  },
  {
   "cell_type": "markdown",
   "metadata": {},
   "source": [
    "# Read in the CSV"
   ]
  },
  {
   "cell_type": "code",
   "execution_count": 2,
   "metadata": {},
   "outputs": [
    {
     "data": {
      "text/html": [
       "<div>\n",
       "<style scoped>\n",
       "    .dataframe tbody tr th:only-of-type {\n",
       "        vertical-align: middle;\n",
       "    }\n",
       "\n",
       "    .dataframe tbody tr th {\n",
       "        vertical-align: top;\n",
       "    }\n",
       "\n",
       "    .dataframe thead th {\n",
       "        text-align: right;\n",
       "    }\n",
       "</style>\n",
       "<table border=\"1\" class=\"dataframe\">\n",
       "  <thead>\n",
       "    <tr style=\"text-align: right;\">\n",
       "      <th></th>\n",
       "      <th>merge_id</th>\n",
       "      <th>date_merged</th>\n",
       "      <th>requesting_user</th>\n",
       "      <th>no_of_commits</th>\n",
       "      <th>no_of_files</th>\n",
       "      <th>lines_of_code</th>\n",
       "      <th>bug_raised_in_uat</th>\n",
       "      <th>bug_raised_in_prod</th>\n",
       "    </tr>\n",
       "  </thead>\n",
       "  <tbody>\n",
       "    <tr>\n",
       "      <th>0</th>\n",
       "      <td>30002389</td>\n",
       "      <td>8/08/2017</td>\n",
       "      <td>Michelle</td>\n",
       "      <td>2</td>\n",
       "      <td>3</td>\n",
       "      <td>45</td>\n",
       "      <td>0</td>\n",
       "      <td>0</td>\n",
       "    </tr>\n",
       "    <tr>\n",
       "      <th>1</th>\n",
       "      <td>30002396</td>\n",
       "      <td>14/02/2016</td>\n",
       "      <td>Raj</td>\n",
       "      <td>3</td>\n",
       "      <td>8</td>\n",
       "      <td>79</td>\n",
       "      <td>1</td>\n",
       "      <td>0</td>\n",
       "    </tr>\n",
       "    <tr>\n",
       "      <th>2</th>\n",
       "      <td>30002403</td>\n",
       "      <td>2/02/2014</td>\n",
       "      <td>Michelle</td>\n",
       "      <td>8</td>\n",
       "      <td>10</td>\n",
       "      <td>32</td>\n",
       "      <td>1</td>\n",
       "      <td>0</td>\n",
       "    </tr>\n",
       "  </tbody>\n",
       "</table>\n",
       "</div>"
      ],
      "text/plain": [
       "   merge_id date_merged requesting_user  no_of_commits  no_of_files  \\\n",
       "0  30002389   8/08/2017        Michelle              2            3   \n",
       "1  30002396  14/02/2016             Raj              3            8   \n",
       "2  30002403   2/02/2014        Michelle              8           10   \n",
       "\n",
       "   lines_of_code  bug_raised_in_uat  bug_raised_in_prod  \n",
       "0             45                  0                   0  \n",
       "1             79                  1                   0  \n",
       "2             32                  1                   0  "
      ]
     },
     "execution_count": 2,
     "metadata": {},
     "output_type": "execute_result"
    }
   ],
   "source": [
    "# Read in the dataset\n",
    "bug_predictor_sample_dataset = pd.read_csv('bug_predictor_sample_dataset.csv')\n",
    "\n",
    "#bug_predictor_sample_dataset.dtypes\n",
    "bug_predictor_sample_dataset[:3]"
   ]
  },
  {
   "cell_type": "markdown",
   "metadata": {},
   "source": [
    "# Data formatting on date"
   ]
  },
  {
   "cell_type": "code",
   "execution_count": 3,
   "metadata": {},
   "outputs": [
    {
     "data": {
      "text/html": [
       "<div>\n",
       "<style scoped>\n",
       "    .dataframe tbody tr th:only-of-type {\n",
       "        vertical-align: middle;\n",
       "    }\n",
       "\n",
       "    .dataframe tbody tr th {\n",
       "        vertical-align: top;\n",
       "    }\n",
       "\n",
       "    .dataframe thead th {\n",
       "        text-align: right;\n",
       "    }\n",
       "</style>\n",
       "<table border=\"1\" class=\"dataframe\">\n",
       "  <thead>\n",
       "    <tr style=\"text-align: right;\">\n",
       "      <th></th>\n",
       "      <th>merge_id</th>\n",
       "      <th>date_merged</th>\n",
       "      <th>requesting_user</th>\n",
       "      <th>no_of_commits</th>\n",
       "      <th>no_of_files</th>\n",
       "      <th>lines_of_code</th>\n",
       "      <th>bug_raised_in_uat</th>\n",
       "      <th>bug_raised_in_prod</th>\n",
       "      <th>day_of_year</th>\n",
       "      <th>week_of_year</th>\n",
       "      <th>day_of_week</th>\n",
       "      <th>quarter</th>\n",
       "      <th>week</th>\n",
       "    </tr>\n",
       "  </thead>\n",
       "  <tbody>\n",
       "    <tr>\n",
       "      <th>0</th>\n",
       "      <td>30002389</td>\n",
       "      <td>2017-08-08</td>\n",
       "      <td>Michelle</td>\n",
       "      <td>2</td>\n",
       "      <td>3</td>\n",
       "      <td>45</td>\n",
       "      <td>0</td>\n",
       "      <td>0</td>\n",
       "      <td>220</td>\n",
       "      <td>32</td>\n",
       "      <td>1</td>\n",
       "      <td>3</td>\n",
       "      <td>32</td>\n",
       "    </tr>\n",
       "    <tr>\n",
       "      <th>1</th>\n",
       "      <td>30002396</td>\n",
       "      <td>2016-02-14</td>\n",
       "      <td>Raj</td>\n",
       "      <td>3</td>\n",
       "      <td>8</td>\n",
       "      <td>79</td>\n",
       "      <td>1</td>\n",
       "      <td>0</td>\n",
       "      <td>45</td>\n",
       "      <td>6</td>\n",
       "      <td>6</td>\n",
       "      <td>1</td>\n",
       "      <td>6</td>\n",
       "    </tr>\n",
       "    <tr>\n",
       "      <th>2</th>\n",
       "      <td>30002403</td>\n",
       "      <td>2014-02-02</td>\n",
       "      <td>Michelle</td>\n",
       "      <td>8</td>\n",
       "      <td>10</td>\n",
       "      <td>32</td>\n",
       "      <td>1</td>\n",
       "      <td>0</td>\n",
       "      <td>33</td>\n",
       "      <td>5</td>\n",
       "      <td>6</td>\n",
       "      <td>1</td>\n",
       "      <td>5</td>\n",
       "    </tr>\n",
       "  </tbody>\n",
       "</table>\n",
       "</div>"
      ],
      "text/plain": [
       "   merge_id date_merged requesting_user  no_of_commits  no_of_files  \\\n",
       "0  30002389  2017-08-08        Michelle              2            3   \n",
       "1  30002396  2016-02-14             Raj              3            8   \n",
       "2  30002403  2014-02-02        Michelle              8           10   \n",
       "\n",
       "   lines_of_code  bug_raised_in_uat  bug_raised_in_prod  day_of_year  \\\n",
       "0             45                  0                   0          220   \n",
       "1             79                  1                   0           45   \n",
       "2             32                  1                   0           33   \n",
       "\n",
       "   week_of_year  day_of_week  quarter  week  \n",
       "0            32            1        3    32  \n",
       "1             6            6        1     6  \n",
       "2             5            6        1     5  "
      ]
     },
     "execution_count": 3,
     "metadata": {},
     "output_type": "execute_result"
    }
   ],
   "source": [
    "# Add columns to put encoded date into\n",
    "bug_predictor_sample_dataset['day_of_year'] = 0\n",
    "bug_predictor_sample_dataset['week_of_year'] = 0\n",
    "bug_predictor_sample_dataset['day_of_week'] = 0\n",
    "bug_predictor_sample_dataset['quarter'] = 0\n",
    "bug_predictor_sample_dataset['week'] = 0\n",
    "\n",
    "# Change the date_merged datatype\n",
    "bug_predictor_sample_dataset['date_merged'] = pd.to_datetime(bug_predictor_sample_dataset['date_merged'])\n",
    "\n",
    "# Populate encoded date\n",
    "for index, row in bug_predictor_sample_dataset.iterrows():\n",
    "    bug_predictor_sample_dataset.at[index, 'day_of_year'] = row['date_merged'].dayofyear\n",
    "    bug_predictor_sample_dataset.at[index, 'week_of_year'] = row['date_merged'].weekofyear\n",
    "    bug_predictor_sample_dataset.at[index, 'day_of_week'] = row['date_merged'].dayofweek\n",
    "    bug_predictor_sample_dataset.at[index, 'quarter'] = row['date_merged'].quarter\n",
    "    bug_predictor_sample_dataset.at[index, 'week'] = row['date_merged'].week\n",
    "\n",
    "# Print dataset    \n",
    "bug_predictor_sample_dataset[:3]"
   ]
  },
  {
   "cell_type": "markdown",
   "metadata": {},
   "source": [
    "# Data formatting on user"
   ]
  },
  {
   "cell_type": "code",
   "execution_count": 4,
   "metadata": {},
   "outputs": [
    {
     "data": {
      "text/html": [
       "<div>\n",
       "<style scoped>\n",
       "    .dataframe tbody tr th:only-of-type {\n",
       "        vertical-align: middle;\n",
       "    }\n",
       "\n",
       "    .dataframe tbody tr th {\n",
       "        vertical-align: top;\n",
       "    }\n",
       "\n",
       "    .dataframe thead th {\n",
       "        text-align: right;\n",
       "    }\n",
       "</style>\n",
       "<table border=\"1\" class=\"dataframe\">\n",
       "  <thead>\n",
       "    <tr style=\"text-align: right;\">\n",
       "      <th></th>\n",
       "      <th>merge_id</th>\n",
       "      <th>date_merged</th>\n",
       "      <th>requesting_user</th>\n",
       "      <th>no_of_commits</th>\n",
       "      <th>no_of_files</th>\n",
       "      <th>lines_of_code</th>\n",
       "      <th>bug_raised_in_uat</th>\n",
       "      <th>bug_raised_in_prod</th>\n",
       "      <th>day_of_year</th>\n",
       "      <th>week_of_year</th>\n",
       "      <th>day_of_week</th>\n",
       "      <th>quarter</th>\n",
       "      <th>week</th>\n",
       "      <th>requesting_user_cat</th>\n",
       "    </tr>\n",
       "  </thead>\n",
       "  <tbody>\n",
       "    <tr>\n",
       "      <th>0</th>\n",
       "      <td>30002389</td>\n",
       "      <td>2017-08-08</td>\n",
       "      <td>Michelle</td>\n",
       "      <td>2</td>\n",
       "      <td>3</td>\n",
       "      <td>45</td>\n",
       "      <td>0</td>\n",
       "      <td>0</td>\n",
       "      <td>220</td>\n",
       "      <td>32</td>\n",
       "      <td>1</td>\n",
       "      <td>3</td>\n",
       "      <td>32</td>\n",
       "      <td>2</td>\n",
       "    </tr>\n",
       "    <tr>\n",
       "      <th>1</th>\n",
       "      <td>30002396</td>\n",
       "      <td>2016-02-14</td>\n",
       "      <td>Raj</td>\n",
       "      <td>3</td>\n",
       "      <td>8</td>\n",
       "      <td>79</td>\n",
       "      <td>1</td>\n",
       "      <td>0</td>\n",
       "      <td>45</td>\n",
       "      <td>6</td>\n",
       "      <td>6</td>\n",
       "      <td>1</td>\n",
       "      <td>6</td>\n",
       "      <td>4</td>\n",
       "    </tr>\n",
       "    <tr>\n",
       "      <th>2</th>\n",
       "      <td>30002403</td>\n",
       "      <td>2014-02-02</td>\n",
       "      <td>Michelle</td>\n",
       "      <td>8</td>\n",
       "      <td>10</td>\n",
       "      <td>32</td>\n",
       "      <td>1</td>\n",
       "      <td>0</td>\n",
       "      <td>33</td>\n",
       "      <td>5</td>\n",
       "      <td>6</td>\n",
       "      <td>1</td>\n",
       "      <td>5</td>\n",
       "      <td>2</td>\n",
       "    </tr>\n",
       "  </tbody>\n",
       "</table>\n",
       "</div>"
      ],
      "text/plain": [
       "   merge_id date_merged requesting_user  no_of_commits  no_of_files  \\\n",
       "0  30002389  2017-08-08        Michelle              2            3   \n",
       "1  30002396  2016-02-14             Raj              3            8   \n",
       "2  30002403  2014-02-02        Michelle              8           10   \n",
       "\n",
       "   lines_of_code  bug_raised_in_uat  bug_raised_in_prod  day_of_year  \\\n",
       "0             45                  0                   0          220   \n",
       "1             79                  1                   0           45   \n",
       "2             32                  1                   0           33   \n",
       "\n",
       "   week_of_year  day_of_week  quarter  week  requesting_user_cat  \n",
       "0            32            1        3    32                    2  \n",
       "1             6            6        1     6                    4  \n",
       "2             5            6        1     5                    2  "
      ]
     },
     "execution_count": 4,
     "metadata": {},
     "output_type": "execute_result"
    }
   ],
   "source": [
    "# Set up the requesting_user as a category so that we can encode\n",
    "bug_predictor_sample_dataset[\"requesting_user\"] = bug_predictor_sample_dataset[\"requesting_user\"].astype('category')\n",
    "bug_predictor_sample_dataset[\"requesting_user_cat\"] = bug_predictor_sample_dataset[\"requesting_user\"].cat.codes\n",
    "\n",
    "# Print dataset\n",
    "#bug_predictor_sample_dataset.dtypes\n",
    "bug_predictor_sample_dataset[:3]"
   ]
  },
  {
   "cell_type": "markdown",
   "metadata": {},
   "source": [
    "# Build model"
   ]
  },
  {
   "cell_type": "code",
   "execution_count": 5,
   "metadata": {},
   "outputs": [
    {
     "name": "stdout",
     "output_type": "stream",
     "text": [
      "(360, 9) (360, 1)\n",
      "(90, 9) (90, 1)\n"
     ]
    },
    {
     "data": {
      "text/plain": [
       "array([1, 1, 1, 0, 1, 1, 0, 0, 0, 0], dtype=int64)"
      ]
     },
     "execution_count": 5,
     "metadata": {},
     "output_type": "execute_result"
    }
   ],
   "source": [
    "# Populate training set and target\n",
    "X = bug_predictor_sample_dataset[['no_of_commits', 'no_of_files', 'lines_of_code', 'day_of_year', 'week_of_year', 'day_of_week', 'quarter', 'week', 'requesting_user_cat']].copy()\n",
    "y = bug_predictor_sample_dataset[['bug_raised_in_uat']].copy()\n",
    "\n",
    "# Train/test/split\n",
    "X_train, X_test, y_train, y_test = train_test_split(X, y, test_size=0.2)\n",
    "\n",
    "# Print model matrix shapes\n",
    "print(X_train.shape, y_train.shape)\n",
    "print(X_test.shape, y_test.shape)\n",
    "\n",
    "# LinearRegression performs poorly by comparisson\n",
    "# lm = LinearRegression()\n",
    "\n",
    "lm = DecisionTreeClassifier() \n",
    "model = lm.fit(X_train, y_train)\n",
    "predictions = lm.predict(X_test)\n",
    "\n",
    "# Print predictions\n",
    "predictions[0:10]"
   ]
  },
  {
   "cell_type": "markdown",
   "metadata": {},
   "source": [
    "# Score the predeiction"
   ]
  },
  {
   "cell_type": "code",
   "execution_count": 6,
   "metadata": {},
   "outputs": [
    {
     "name": "stdout",
     "output_type": "stream",
     "text": [
      "Score: 0.7666666666666667\n"
     ]
    }
   ],
   "source": [
    "# Print the scored model\n",
    "print(\"Score:\", model.score(X_test, y_test))"
   ]
  }
 ],
 "metadata": {
  "kernelspec": {
   "display_name": "Python 3",
   "language": "python",
   "name": "python3"
  },
  "language_info": {
   "codemirror_mode": {
    "name": "ipython",
    "version": 3
   },
   "file_extension": ".py",
   "mimetype": "text/x-python",
   "name": "python",
   "nbconvert_exporter": "python",
   "pygments_lexer": "ipython3",
   "version": "3.6.5"
  }
 },
 "nbformat": 4,
 "nbformat_minor": 2
}
